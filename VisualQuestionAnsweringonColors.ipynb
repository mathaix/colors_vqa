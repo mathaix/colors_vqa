{
 "cells": [
  {
   "cell_type": "code",
   "execution_count": 1,
   "metadata": {},
   "outputs": [],
   "source": [
    "from colors_vqa_model import VQAEncoderDecoder\n",
    "from colors_vqa_dataset import ColorsVqaDataSet\n",
    "from colors_vqa_model import load_ckp\n",
    "import torch\n",
    "from torch.utils.data import DataLoader\n",
    "import torchvision\n",
    "import os\n",
    "import matplotlib.pyplot as plt\n",
    "\n",
    "cvqa = ColorsVqaDataSet(\"data\", \"colors.csv\")\n",
    "\n",
    "def build_optimizer( model, eta = 0.001, l2_strength = 0):\n",
    "    return torch.optim.Adam(model.parameters(), \n",
    "                           lr = eta,\n",
    "                           weight_decay =  l2_strength\n",
    "                           )\n",
    "\n",
    "def plot_images(images, normalize=True): \n",
    "    # normalise=True below shifts [-1,1] to [0,1]\n",
    "    img_grid = torchvision.utils.make_grid(images, nrow=4, normalize=normalize)\n",
    "    np_img = img_grid.numpy().transpose(1,2,0)  \n",
    "    plt.imshow(np_img)\n",
    "\n",
    "batch_size = 4\n",
    "dataset_size = len(cvqa)\n",
    "test_split = 0.7    \n",
    "test_size = int(test_split * dataset_size)\n",
    "train_size = dataset_size - test_size\n",
    "\n",
    "train_dataset, test_dataset = torch.utils.data.random_split(cvqa,[train_size, test_size])\n",
    "    \n",
    "test_loader = DataLoader(\n",
    "        test_dataset,\n",
    "        batch_size=batch_size,\n",
    "        collate_fn = cvqa.collate_fn,\n",
    "        shuffle=False)\n",
    "\n",
    "model = VQAEncoderDecoder(cvqa.get_vocab())\n",
    "optimizer = build_optimizer(model)\n",
    "checkpoint_dir = \"./model\"\n",
    "checkpoint_fpath = os.path.join(checkpoint_dir, \"checkpoint2.pt\")\n",
    "model, optimizer, start_epoch = load_ckp(checkpoint_fpath, model, optimizer)\n",
    "batch_size = 1\n",
    "\n",
    "test_iter = iter(test_loader)\n"
   ]
  },
  {
   "cell_type": "code",
   "execution_count": 2,
   "metadata": {},
   "outputs": [
    {
     "name": "stdout",
     "output_type": "stream",
     "text": [
      "[['<s>', 'the', 'one', 'that', 'is', 'the', 'same', '</s>'], ['<s>', 'the', 'one', 'that', 'is', 'more', 'green', '</s>'], ['<s>', 'green', '</s>'], ['<s>', 'yellow', '</s>']]\n"
     ]
    },
    {
     "data": {
      "image/png": "[encoded data removed]",
      "text/plain": [
       "<Figure size 432x288 with 1 Axes>"
      ]
     },
     "metadata": {
      "needs_background": "light"
     },
     "output_type": "display_data"
    }
   ],
   "source": [
    "from colors_vqa_model import VQAEncoderDecoder\n",
    "images, _, _, _,question_seq, question_len  = test_iter.next()\n",
    "plot_images(images)\n",
    "preds = model.predict(images,question_seq, question_len)\n",
    "print(preds)"
   ]
  },
  {
   "cell_type": "code",
   "execution_count": 3,
   "metadata": {},
   "outputs": [
    {
     "name": "stdout",
     "output_type": "stream",
     "text": [
      "[['<s>', 'bright', 'pink', '</s>'], ['<s>', 'green', '</s>'], ['<s>', 'blue', '</s>'], ['<s>', 'pink', '</s>']]\n"
     ]
    },
    {
     "data": {
      "image/png": "[encoded data removed]",
      "text/plain": [
       "<Figure size 432x288 with 1 Axes>"
      ]
     },
     "metadata": {
      "needs_background": "light"
     },
     "output_type": "display_data"
    }
   ],
   "source": [
    "images, _, _, _,question_seq, question_len  = test_iter.next()\n",
    "plot_images(images)\n",
    "preds = model.predict(images,question_seq, question_len)\n",
    "print(preds)"
   ]
  },
  {
   "cell_type": "code",
   "execution_count": 4,
   "metadata": {},
   "outputs": [
    {
     "name": "stdout",
     "output_type": "stream",
     "text": [
      "[['<s>', 'the', 'brighter', 'teal', '</s>'], ['<s>', 'pumpkins', '</s>'], ['<s>', 'purple', '</s>'], ['<s>', 'purple', '</s>']]\n"
     ]
    },
    {
     "data": {
      "image/png": "[encoded data removed]",
      "text/plain": [
       "<Figure size 432x288 with 1 Axes>"
      ]
     },
     "metadata": {
      "needs_background": "light"
     },
     "output_type": "display_data"
    }
   ],
   "source": [
    "images, _, _, _,question_seq, question_len  = test_iter.next()\n",
    "plot_images(images)\n",
    "preds = model.predict(images,question_seq, question_len)\n",
    "print(preds)"
   ]
  },
  {
   "cell_type": "code",
   "execution_count": 5,
   "metadata": {},
   "outputs": [
    {
     "name": "stdout",
     "output_type": "stream",
     "text": [
      "[['<s>', 'green', '</s>'], ['<s>', 'blue', '</s>'], ['<s>', 'red', '</s>'], ['<s>', 'red', '</s>']]\n"
     ]
    },
    {
     "data": {
      "image/png": "[encoded data removed]",
      "text/plain": [
       "<Figure size 432x288 with 1 Axes>"
      ]
     },
     "metadata": {
      "needs_background": "light"
     },
     "output_type": "display_data"
    }
   ],
   "source": [
    "images, _, _, _,question_seq, question_len  = test_iter.next()\n",
    "plot_images(images)\n",
    "preds = model.predict(images,question_seq, question_len)\n",
    "print(preds)"
   ]
  },
  {
   "cell_type": "code",
   "execution_count": 6,
   "metadata": {
    "scrolled": true
   },
   "outputs": [
    {
     "name": "stdout",
     "output_type": "stream",
     "text": [
      "2031\n"
     ]
    },
    {
     "name": "stderr",
     "output_type": "stream",
     "text": [
      "/Users/mathewma/opt/anaconda3/envs/nlu/lib/python3.7/site-packages/torchvision/transforms/transforms.py:256: UserWarning: The use of the transforms.Scale transform is deprecated, please use transforms.Resize instead.\n",
      "  warnings.warn(\"The use of the transforms.Scale transform is deprecated, \" +\n"
     ]
    },
    {
     "name": "stdout",
     "output_type": "stream",
     "text": [
      "[['<s>', 'purple', 'not', 'the', 'pinks', '</s>']]\n"
     ]
    },
    {
     "data": {
      "image/png": "[encoded data removed]",
      "text/plain": [
       "<Figure size 432x288 with 1 Axes>"
      ]
     },
     "metadata": {
      "needs_background": "light"
     },
     "output_type": "display_data"
    }
   ],
   "source": [
    "from colors import ColorsCorpusReader\n",
    "from colors_vqa_test_dataset import ColorsVqaTestDataSet\n",
    "\n",
    "COLORS_BAKEOFF_SRC_FILENAME = os.path.join(\n",
    "\"data\",  \"cs224u-colors-bakeoff-data.csv\")\n",
    "\n",
    "bakeoff_corpus = ColorsCorpusReader(COLORS_BAKEOFF_SRC_FILENAME)\n",
    "bakeoff_rawcols, bakeoff_texts = zip(*[[ex.colors, ex.contents] for ex in bakeoff_corpus.read()])\n",
    "print (len(bakeoff_rawcols))\n",
    "questions = [\"Describe the selected color\"] * len(bakeoff_rawcols)\n",
    "cvqTestData = model.build_dataset(bakeoff_rawcols, bakeoff_texts, questions)\n",
    "\n",
    "cvqTestDataLoader = torch.utils.data.DataLoader(\n",
    "                cvqTestData,\n",
    "                batch_size=1,\n",
    "                shuffle=False,\n",
    "                pin_memory=True,\n",
    "                collate_fn=cvqTestData.collate_fn)\n",
    "\n",
    "bakeoff_iter = iter(cvqTestDataLoader)\n",
    "images, _, _, _,question_seq, question_len  = bakeoff_iter.next()\n",
    "plot_images(images)\n",
    "preds = model.predict(images,question_seq, question_len)\n",
    "print(preds)"
   ]
  },
  {
   "cell_type": "code",
   "execution_count": 7,
   "metadata": {},
   "outputs": [
    {
     "name": "stdout",
     "output_type": "stream",
     "text": [
      "[['<s>', 'gray', '</s>']]\n"
     ]
    },
    {
     "data": {
      "image/png": "[encoded data removed]",
      "text/plain": [
       "<Figure size 432x288 with 1 Axes>"
      ]
     },
     "metadata": {
      "needs_background": "light"
     },
     "output_type": "display_data"
    }
   ],
   "source": [
    "images, _, _, _,question_seq, question_len  = bakeoff_iter.next()\n",
    "plot_images(images)\n",
    "preds = model.predict(images,question_seq, question_len)\n",
    "print(preds)"
   ]
  },
  {
   "cell_type": "code",
   "execution_count": 8,
   "metadata": {},
   "outputs": [
    {
     "name": "stdout",
     "output_type": "stream",
     "text": [
      "[['<s>', 'the', 'one', 'that', 'is', 'the', 'same', '</s>']]\n"
     ]
    },
    {
     "data": {
      "image/png": "[encoded data removed]",
      "text/plain": [
       "<Figure size 432x288 with 1 Axes>"
      ]
     },
     "metadata": {
      "needs_background": "light"
     },
     "output_type": "display_data"
    }
   ],
   "source": [
    "images, _, _, _,question_seq, question_len  = bakeoff_iter.next()\n",
    "plot_images(images)\n",
    "preds = model.predict(images,question_seq, question_len)\n",
    "print(preds)"
   ]
  },
  {
   "cell_type": "code",
   "execution_count": 9,
   "metadata": {},
   "outputs": [
    {
     "name": "stdout",
     "output_type": "stream",
     "text": [
      "[['<s>', 'blue', '</s>']]\n"
     ]
    },
    {
     "data": {
      "image/png": "[encoded data removed]",
      "text/plain": [
       "<Figure size 432x288 with 1 Axes>"
      ]
     },
     "metadata": {
      "needs_background": "light"
     },
     "output_type": "display_data"
    }
   ],
   "source": [
    "images, _, _, _,question_seq, question_len  = bakeoff_iter.next()\n",
    "plot_images(images)\n",
    "preds = model.predict(images,question_seq, question_len)\n",
    "print(preds)"
   ]
  },
  {
   "cell_type": "code",
   "execution_count": 10,
   "metadata": {},
   "outputs": [
    {
     "name": "stdout",
     "output_type": "stream",
     "text": [
      "[['<s>', 'purple', '</s>']]\n"
     ]
    },
    {
     "data": {
      "image/png": "[encoded data removed]",
      "text/plain": [
       "<Figure size 432x288 with 1 Axes>"
      ]
     },
     "metadata": {
      "needs_background": "light"
     },
     "output_type": "display_data"
    }
   ],
   "source": [
    "questions = [\"Selected by Blue\"] * len(bakeoff_rawcols)\n",
    "cvqTestData = model.build_dataset(bakeoff_rawcols, bakeoff_texts, questions)\n",
    "\n",
    "cvqTestDataLoader = torch.utils.data.DataLoader(\n",
    "                cvqTestData,\n",
    "                batch_size=1,\n",
    "                shuffle=False,\n",
    "                pin_memory=True,\n",
    "                collate_fn=cvqTestData.collate_fn)\n",
    "\n",
    "bakeoff_iter = iter(cvqTestDataLoader)\n",
    "images, _, _, _,question_seq, question_len  = bakeoff_iter.next()\n",
    "plot_images(images)\n",
    "preds = model.predict(images,question_seq, question_len)\n",
    "print(preds)"
   ]
  },
  {
   "cell_type": "code",
   "execution_count": 11,
   "metadata": {},
   "outputs": [
    {
     "name": "stdout",
     "output_type": "stream",
     "text": [
      "[['<s>', 'gray', '</s>']]\n"
     ]
    },
    {
     "data": {
      "image/png": "[encoded data removed]",
      "text/plain": [
       "<Figure size 432x288 with 1 Axes>"
      ]
     },
     "metadata": {
      "needs_background": "light"
     },
     "output_type": "display_data"
    }
   ],
   "source": [
    "images, _, _, _,question_seq, question_len  = bakeoff_iter.next()\n",
    "plot_images(images)\n",
    "preds = model.predict(images,question_seq, question_len)\n",
    "print(preds)"
   ]
  },
  {
   "cell_type": "code",
   "execution_count": null,
   "metadata": {},
   "outputs": [],
   "source": []
  }
 ],
 "metadata": {
  "kernelspec": {
   "display_name": "Python 3",
   "language": "python",
   "name": "python3"
  },
  "language_info": {
   "codemirror_mode": {
    "name": "ipython",
    "version": 3
   },
   "file_extension": ".py",
   "mimetype": "text/x-python",
   "name": "python",
   "nbconvert_exporter": "python",
   "pygments_lexer": "ipython3",
   "version": "3.7.9"
  }
 },
 "nbformat": 4,
 "nbformat_minor": 4
}
